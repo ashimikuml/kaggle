{
 "cells": [
  {
   "cell_type": "code",
   "execution_count": 1,
   "metadata": {},
   "outputs": [],
   "source": [
    "import numpy as np\n",
    "import pandas as pd"
   ]
  },
  {
   "cell_type": "code",
   "execution_count": 2,
   "metadata": {},
   "outputs": [],
   "source": [
    "def load_train_data(path):\n",
    "    train = pd.read_csv(path)\n",
    "    \n",
    "    train['Sex'][train['Sex'] == 'male'] = 0\n",
    "    train['Sex'][train['Sex'] == 'female'] = 1\n",
    "    train['Sex'] = train['Sex'].astype(int)\n",
    "    \n",
    "    fill_train = train.iloc[:, [0,1,2,4,5,6,7,9]]\n",
    "    med = fill_train['Age'].median()\n",
    "    fill_train.loc[:, 'Age'] = fill_train['Age'].fillna(med)\n",
    "    \n",
    "    fill_train = fill_train.values\n",
    "    ids = fill_train[:, 0]\n",
    "    labels = fill_train[:, 1]\n",
    "    data = fill_train[:, 2:]\n",
    "    \n",
    "    return ids, data, labels, med"
   ]
  },
  {
   "cell_type": "code",
   "execution_count": 3,
   "metadata": {},
   "outputs": [
    {
     "name": "stdout",
     "output_type": "stream",
     "text": [
      "(891, 6)\n"
     ]
    },
    {
     "name": "stderr",
     "output_type": "stream",
     "text": [
      "/Users/fujino/miniconda3/envs/tf/lib/python3.7/site-packages/ipykernel_launcher.py:4: SettingWithCopyWarning: \n",
      "A value is trying to be set on a copy of a slice from a DataFrame\n",
      "\n",
      "See the caveats in the documentation: http://pandas.pydata.org/pandas-docs/stable/user_guide/indexing.html#returning-a-view-versus-a-copy\n",
      "  after removing the cwd from sys.path.\n",
      "/Users/fujino/miniconda3/envs/tf/lib/python3.7/site-packages/ipykernel_launcher.py:5: SettingWithCopyWarning: \n",
      "A value is trying to be set on a copy of a slice from a DataFrame\n",
      "\n",
      "See the caveats in the documentation: http://pandas.pydata.org/pandas-docs/stable/user_guide/indexing.html#returning-a-view-versus-a-copy\n",
      "  \"\"\"\n",
      "/Users/fujino/miniconda3/envs/tf/lib/python3.7/site-packages/pandas/core/indexing.py:480: SettingWithCopyWarning: \n",
      "A value is trying to be set on a copy of a slice from a DataFrame.\n",
      "Try using .loc[row_indexer,col_indexer] = value instead\n",
      "\n",
      "See the caveats in the documentation: http://pandas.pydata.org/pandas-docs/stable/user_guide/indexing.html#returning-a-view-versus-a-copy\n",
      "  self.obj[item] = s\n"
     ]
    }
   ],
   "source": [
    "train_ids, train_data, train_labels, med = load_train_data('data/train.csv')\n",
    "print(train_data.shape)\n",
    "\n",
    "train_mean = np.mean(train_data, axis=0)\n",
    "train_std = np.std(train_data, axis=0)\n",
    "\n",
    "train_data = (train_data - train_mean) / train_std\n",
    "\n",
    "val_data = train_data[-100:]\n",
    "val_labels = train_labels[-100:]\n",
    "train_data = train_data[:-100]\n",
    "train_labels = train_labels[:-100]"
   ]
  },
  {
   "cell_type": "markdown",
   "metadata": {},
   "source": [
    "https://www.tensorflow.org/guide/keras?hl=ja"
   ]
  },
  {
   "cell_type": "code",
   "execution_count": 4,
   "metadata": {},
   "outputs": [],
   "source": [
    "import tensorflow as tf\n",
    "from tensorflow.keras import layers"
   ]
  },
  {
   "cell_type": "code",
   "execution_count": 5,
   "metadata": {},
   "outputs": [],
   "source": [
    "class TitanicModel(tf.keras.Model):\n",
    "    def __init__(self, output_dim):\n",
    "        super(TitanicModel, self).__init__()\n",
    "        self.dense1 = layers.Dense(16, activation='relu')\n",
    "        self.dense2 = layers.Dense(16, activation='relu')\n",
    "        self.out = layers.Dense(output_dim, activation='sigmoid')\n",
    "        \n",
    "    def call(self, inputs):\n",
    "        x = self.dense1(inputs)\n",
    "        x = self.dense2(x)\n",
    "        x = self.out(x)\n",
    "        return x"
   ]
  },
  {
   "cell_type": "code",
   "execution_count": 6,
   "metadata": {},
   "outputs": [],
   "source": [
    "def scheduler(epoch):\n",
    "  if epoch < 25:\n",
    "    return 0.001\n",
    "  else:\n",
    "    return 0.001 * 0.9 ** (epoch - 24)"
   ]
  },
  {
   "cell_type": "code",
   "execution_count": 7,
   "metadata": {},
   "outputs": [
    {
     "name": "stderr",
     "output_type": "stream",
     "text": [
      "WARNING: Logging before flag parsing goes to stderr.\n",
      "W0815 18:46:24.159141 140736239809472 module_wrapper.py:136] From /Users/fujino/miniconda3/envs/tf/lib/python3.7/site-packages/tensorflow_core/python/util/module_wrapper.py:163: The name tf.losses.log_loss is deprecated. Please use tf.compat.v1.losses.log_loss instead.\n",
      "\n",
      "W0815 18:46:25.925914 140736239809472 module_wrapper.py:136] From /Users/fujino/miniconda3/envs/tf/lib/python3.7/site-packages/tensorflow_core/python/util/module_wrapper.py:163: The name tf.estimator.inputs is deprecated. Please use tf.compat.v1.estimator.inputs instead.\n",
      "\n",
      "W0815 18:46:26.021514 140736239809472 deprecation.py:506] From /Users/fujino/miniconda3/envs/tf/lib/python3.7/site-packages/tensorflow_core/python/ops/resource_variable_ops.py:1633: calling BaseResourceVariable.__init__ (from tensorflow.python.ops.resource_variable_ops) with constraint is deprecated and will be removed in a future version.\n",
      "Instructions for updating:\n",
      "If using Keras pass *_constraint arguments to layers.\n",
      "W0815 18:46:26.171652 140736239809472 deprecation.py:323] From /Users/fujino/miniconda3/envs/tf/lib/python3.7/site-packages/tensorflow_core/python/ops/losses/losses_impl.py:121: where (from tensorflow.python.ops.array_ops) is deprecated and will be removed in a future version.\n",
      "Instructions for updating:\n",
      "Use tf.where in 2.0, which has the same broadcast rule as np.where\n",
      "W0815 18:46:26.437273 140736239809472 deprecation.py:323] From /Users/fujino/miniconda3/envs/tf/lib/python3.7/site-packages/tensorflow_core/python/keras/optimizer_v2/optimizer_v2.py:468: BaseResourceVariable.constraint (from tensorflow.python.ops.resource_variable_ops) is deprecated and will be removed in a future version.\n",
      "Instructions for updating:\n",
      "Apply a constraint manually following the optimizer update step.\n"
     ]
    },
    {
     "name": "stdout",
     "output_type": "stream",
     "text": [
      "Train on 791 samples, validate on 100 samples\n",
      "Epoch 1/50\n",
      "791/791 [==============================] - 1s 779us/sample - loss: 0.5696 - acc: 0.7257 - val_loss: 0.4578 - val_acc: 0.8000\n",
      "Epoch 2/50\n",
      "791/791 [==============================] - 0s 386us/sample - loss: 0.4669 - acc: 0.7876 - val_loss: 0.4053 - val_acc: 0.8200\n",
      "Epoch 3/50\n",
      "791/791 [==============================] - 0s 428us/sample - loss: 0.4430 - acc: 0.8066 - val_loss: 0.3912 - val_acc: 0.8400\n",
      "Epoch 4/50\n",
      "791/791 [==============================] - 0s 358us/sample - loss: 0.4334 - acc: 0.8091 - val_loss: 0.3779 - val_acc: 0.8300\n",
      "Epoch 5/50\n",
      "791/791 [==============================] - 0s 385us/sample - loss: 0.4290 - acc: 0.8180 - val_loss: 0.3716 - val_acc: 0.8500\n",
      "Epoch 6/50\n",
      "791/791 [==============================] - 0s 386us/sample - loss: 0.4228 - acc: 0.8167 - val_loss: 0.3594 - val_acc: 0.8500\n",
      "Epoch 7/50\n",
      "791/791 [==============================] - 0s 377us/sample - loss: 0.4183 - acc: 0.8180 - val_loss: 0.3543 - val_acc: 0.8500\n",
      "Epoch 8/50\n",
      "791/791 [==============================] - 0s 396us/sample - loss: 0.4151 - acc: 0.8180 - val_loss: 0.3482 - val_acc: 0.8600\n",
      "Epoch 9/50\n",
      "791/791 [==============================] - 0s 360us/sample - loss: 0.4121 - acc: 0.8205 - val_loss: 0.3434 - val_acc: 0.8600\n",
      "Epoch 10/50\n",
      "791/791 [==============================] - 0s 532us/sample - loss: 0.4109 - acc: 0.8230 - val_loss: 0.3404 - val_acc: 0.8700\n",
      "Epoch 11/50\n",
      "791/791 [==============================] - 0s 382us/sample - loss: 0.4102 - acc: 0.8255 - val_loss: 0.3380 - val_acc: 0.8700\n",
      "Epoch 12/50\n",
      "791/791 [==============================] - 0s 361us/sample - loss: 0.4087 - acc: 0.8255 - val_loss: 0.3328 - val_acc: 0.8700\n",
      "Epoch 13/50\n",
      "791/791 [==============================] - 0s 465us/sample - loss: 0.4057 - acc: 0.8243 - val_loss: 0.3368 - val_acc: 0.8700\n",
      "Epoch 14/50\n",
      "791/791 [==============================] - 0s 425us/sample - loss: 0.4044 - acc: 0.8268 - val_loss: 0.3381 - val_acc: 0.8600\n",
      "Epoch 15/50\n",
      "791/791 [==============================] - 0s 429us/sample - loss: 0.4023 - acc: 0.8255 - val_loss: 0.3386 - val_acc: 0.8600\n",
      "Epoch 16/50\n",
      "791/791 [==============================] - 0s 560us/sample - loss: 0.4026 - acc: 0.8293 - val_loss: 0.3279 - val_acc: 0.8700\n",
      "Epoch 17/50\n",
      "791/791 [==============================] - 0s 382us/sample - loss: 0.4022 - acc: 0.8255 - val_loss: 0.3273 - val_acc: 0.8700\n",
      "Epoch 18/50\n",
      "791/791 [==============================] - 0s 412us/sample - loss: 0.4016 - acc: 0.8268 - val_loss: 0.3316 - val_acc: 0.8700\n",
      "Epoch 19/50\n",
      "791/791 [==============================] - 0s 417us/sample - loss: 0.3996 - acc: 0.8268 - val_loss: 0.3297 - val_acc: 0.8700\n",
      "Epoch 20/50\n",
      "791/791 [==============================] - 0s 392us/sample - loss: 0.3985 - acc: 0.8293 - val_loss: 0.3332 - val_acc: 0.8700\n",
      "Epoch 21/50\n",
      "791/791 [==============================] - 0s 422us/sample - loss: 0.3982 - acc: 0.8293 - val_loss: 0.3342 - val_acc: 0.8600\n",
      "Epoch 22/50\n",
      "791/791 [==============================] - 0s 430us/sample - loss: 0.3984 - acc: 0.8255 - val_loss: 0.3350 - val_acc: 0.8700\n",
      "Epoch 23/50\n",
      "791/791 [==============================] - 0s 470us/sample - loss: 0.3957 - acc: 0.8293 - val_loss: 0.3328 - val_acc: 0.8700\n",
      "Epoch 24/50\n",
      "791/791 [==============================] - 0s 376us/sample - loss: 0.3953 - acc: 0.8281 - val_loss: 0.3273 - val_acc: 0.8700\n",
      "Epoch 25/50\n",
      "791/791 [==============================] - 0s 404us/sample - loss: 0.3946 - acc: 0.8268 - val_loss: 0.3327 - val_acc: 0.8600\n",
      "Epoch 26/50\n",
      "791/791 [==============================] - 0s 385us/sample - loss: 0.3941 - acc: 0.8293 - val_loss: 0.3320 - val_acc: 0.8700\n",
      "Epoch 27/50\n",
      "791/791 [==============================] - 0s 374us/sample - loss: 0.3930 - acc: 0.8243 - val_loss: 0.3315 - val_acc: 0.8700\n",
      "Epoch 28/50\n",
      "791/791 [==============================] - 0s 383us/sample - loss: 0.3913 - acc: 0.8268 - val_loss: 0.3305 - val_acc: 0.8700\n",
      "Epoch 29/50\n",
      "791/791 [==============================] - 0s 385us/sample - loss: 0.3902 - acc: 0.8344 - val_loss: 0.3310 - val_acc: 0.8700\n",
      "Epoch 30/50\n",
      "791/791 [==============================] - 0s 385us/sample - loss: 0.3903 - acc: 0.8230 - val_loss: 0.3305 - val_acc: 0.8700\n",
      "Epoch 31/50\n",
      "791/791 [==============================] - 0s 443us/sample - loss: 0.3890 - acc: 0.8306 - val_loss: 0.3266 - val_acc: 0.8600\n",
      "Epoch 32/50\n",
      "791/791 [==============================] - 0s 370us/sample - loss: 0.3882 - acc: 0.8281 - val_loss: 0.3298 - val_acc: 0.8700\n",
      "Epoch 33/50\n",
      "791/791 [==============================] - 0s 448us/sample - loss: 0.3870 - acc: 0.8331 - val_loss: 0.3335 - val_acc: 0.8600\n",
      "Epoch 34/50\n",
      "791/791 [==============================] - 0s 356us/sample - loss: 0.3872 - acc: 0.8306 - val_loss: 0.3314 - val_acc: 0.8700\n",
      "Epoch 35/50\n",
      "791/791 [==============================] - 0s 359us/sample - loss: 0.3864 - acc: 0.8281 - val_loss: 0.3305 - val_acc: 0.8700\n",
      "Epoch 36/50\n",
      "791/791 [==============================] - 0s 371us/sample - loss: 0.3856 - acc: 0.8306 - val_loss: 0.3300 - val_acc: 0.8700\n",
      "Epoch 37/50\n",
      "791/791 [==============================] - 0s 361us/sample - loss: 0.3860 - acc: 0.8331 - val_loss: 0.3300 - val_acc: 0.8700\n",
      "Epoch 38/50\n",
      "791/791 [==============================] - 0s 484us/sample - loss: 0.3850 - acc: 0.8319 - val_loss: 0.3293 - val_acc: 0.8700\n",
      "Epoch 39/50\n",
      "791/791 [==============================] - 0s 387us/sample - loss: 0.3846 - acc: 0.8306 - val_loss: 0.3299 - val_acc: 0.8700\n",
      "Epoch 40/50\n",
      "791/791 [==============================] - 0s 406us/sample - loss: 0.3844 - acc: 0.8319 - val_loss: 0.3296 - val_acc: 0.8700\n",
      "Epoch 41/50\n",
      "791/791 [==============================] - 0s 481us/sample - loss: 0.3841 - acc: 0.8306 - val_loss: 0.3290 - val_acc: 0.8700\n",
      "Epoch 42/50\n",
      "791/791 [==============================] - 0s 404us/sample - loss: 0.3837 - acc: 0.8319 - val_loss: 0.3289 - val_acc: 0.8700\n",
      "Epoch 43/50\n",
      "791/791 [==============================] - 0s 421us/sample - loss: 0.3836 - acc: 0.8319 - val_loss: 0.3286 - val_acc: 0.8700\n",
      "Epoch 44/50\n",
      "791/791 [==============================] - 0s 406us/sample - loss: 0.3835 - acc: 0.8331 - val_loss: 0.3284 - val_acc: 0.8700\n",
      "Epoch 45/50\n",
      "791/791 [==============================] - 1s 678us/sample - loss: 0.3832 - acc: 0.8319 - val_loss: 0.3289 - val_acc: 0.8700\n",
      "Epoch 46/50\n",
      "791/791 [==============================] - 0s 386us/sample - loss: 0.3829 - acc: 0.8306 - val_loss: 0.3284 - val_acc: 0.8700\n",
      "Epoch 47/50\n",
      "791/791 [==============================] - 0s 531us/sample - loss: 0.3828 - acc: 0.8306 - val_loss: 0.3286 - val_acc: 0.8700\n",
      "Epoch 48/50\n",
      "791/791 [==============================] - 0s 421us/sample - loss: 0.3826 - acc: 0.8319 - val_loss: 0.3286 - val_acc: 0.8700\n",
      "Epoch 49/50\n",
      "791/791 [==============================] - 0s 468us/sample - loss: 0.3825 - acc: 0.8319 - val_loss: 0.3284 - val_acc: 0.8700\n",
      "Epoch 50/50\n",
      "791/791 [==============================] - 0s 393us/sample - loss: 0.3823 - acc: 0.8319 - val_loss: 0.3287 - val_acc: 0.8700\n"
     ]
    },
    {
     "data": {
      "text/plain": [
       "<tensorflow.python.keras.callbacks.History at 0x12e3a2cf8>"
      ]
     },
     "execution_count": 7,
     "metadata": {},
     "output_type": "execute_result"
    }
   ],
   "source": [
    "from datetime import datetime\n",
    "\n",
    "model = TitanicModel(output_dim=1)\n",
    "model.compile(optimizer=tf.keras.optimizers.Adam(learning_rate=0.001),\n",
    "              loss=tf.losses.log_loss,\n",
    "              # loss='binary_crossentropy',\n",
    "              metrics=['accuracy'])\n",
    "\n",
    "ckpt_path = './ckpt/titanic/titanic'\n",
    "logdir=\"./logs/titanic-\" + datetime.now().strftime(\"%Y%m%d-%H%M%S\")\n",
    "# logdir = \"./logs\"\n",
    "callbacks = [tf.keras.callbacks.ModelCheckpoint(ckpt_path, save_best_only=True, monitor='val_acc'),\n",
    "             tf.keras.callbacks.TensorBoard(log_dir=logdir, histogram_freq=1),\n",
    "             tf.keras.callbacks.LearningRateScheduler(scheduler),\n",
    "            ]\n",
    "model.fit(train_data, train_labels, batch_size=4, epochs=50, callbacks=callbacks,\n",
    "          validation_data=(val_data, val_labels))"
   ]
  },
  {
   "cell_type": "code",
   "execution_count": 8,
   "metadata": {},
   "outputs": [
    {
     "name": "stdout",
     "output_type": "stream",
     "text": [
      "87\n"
     ]
    }
   ],
   "source": [
    "cnt = 0\n",
    "for IDX in range(100):\n",
    "    predict = model.predict(val_data[IDX:IDX + 1])[0][0]\n",
    "    if predict > 0.5:\n",
    "        pred_label = 1\n",
    "    else:\n",
    "        pred_label = 0\n",
    "    # print(pred_label, val_labels[IDX], pred_label == val_labels[IDX])\n",
    "    if pred_label == val_labels[IDX]:\n",
    "        cnt += 1\n",
    "print(cnt)"
   ]
  },
  {
   "cell_type": "code",
   "execution_count": 9,
   "metadata": {},
   "outputs": [
    {
     "data": {
      "text/plain": [
       "<tensorflow.python.training.tracking.util.CheckpointLoadStatus at 0x12c97d0f0>"
      ]
     },
     "execution_count": 9,
     "metadata": {},
     "output_type": "execute_result"
    }
   ],
   "source": [
    "model.load_weights(ckpt_path)"
   ]
  },
  {
   "cell_type": "code",
   "execution_count": 10,
   "metadata": {},
   "outputs": [],
   "source": [
    "def load_test_data(path, med):\n",
    "    test = pd.read_csv(path)\n",
    "    \n",
    "    test['Sex'][test['Sex'] == 'male'] = 0\n",
    "    test['Sex'][test['Sex'] == 'female'] = 1\n",
    "    test['Sex'] = test['Sex'].astype(int)\n",
    "    \n",
    "    fill = test.iloc[:, [0,1,3,4,5,6,8]]\n",
    "    fill.loc[:, 'Age'] = fill['Age'].fillna(med)\n",
    "    \n",
    "    fill = fill.values\n",
    "    ids = fill[:, 0]\n",
    "    data = fill[:, 1:]\n",
    "    \n",
    "    return ids, data"
   ]
  },
  {
   "cell_type": "code",
   "execution_count": 11,
   "metadata": {},
   "outputs": [
    {
     "name": "stderr",
     "output_type": "stream",
     "text": [
      "/Users/fujino/miniconda3/envs/tf/lib/python3.7/site-packages/ipykernel_launcher.py:4: SettingWithCopyWarning: \n",
      "A value is trying to be set on a copy of a slice from a DataFrame\n",
      "\n",
      "See the caveats in the documentation: http://pandas.pydata.org/pandas-docs/stable/user_guide/indexing.html#returning-a-view-versus-a-copy\n",
      "  after removing the cwd from sys.path.\n",
      "/Users/fujino/miniconda3/envs/tf/lib/python3.7/site-packages/ipykernel_launcher.py:5: SettingWithCopyWarning: \n",
      "A value is trying to be set on a copy of a slice from a DataFrame\n",
      "\n",
      "See the caveats in the documentation: http://pandas.pydata.org/pandas-docs/stable/user_guide/indexing.html#returning-a-view-versus-a-copy\n",
      "  \"\"\"\n",
      "/Users/fujino/miniconda3/envs/tf/lib/python3.7/site-packages/pandas/core/indexing.py:480: SettingWithCopyWarning: \n",
      "A value is trying to be set on a copy of a slice from a DataFrame.\n",
      "Try using .loc[row_indexer,col_indexer] = value instead\n",
      "\n",
      "See the caveats in the documentation: http://pandas.pydata.org/pandas-docs/stable/user_guide/indexing.html#returning-a-view-versus-a-copy\n",
      "  self.obj[item] = s\n"
     ]
    }
   ],
   "source": [
    "test_ids, test_data = load_test_data('data/test.csv', med)\n",
    "test_data = (test_data - train_mean) / train_std"
   ]
  },
  {
   "cell_type": "code",
   "execution_count": 12,
   "metadata": {},
   "outputs": [],
   "source": [
    "predictions = model.predict(test_data)\n",
    "\n",
    "result = []\n",
    "for id, pred in zip (test_ids, predictions):\n",
    "    if pred[0] < 0.5:\n",
    "        label = 0\n",
    "    else:\n",
    "        label = 1\n",
    "    result.append('%d,%d' % (id, label))\n",
    "    \n",
    "with open('result.csv', 'w') as fout:\n",
    "    fout.write('PassengerId,Survived\\n')\n",
    "    fout.write('\\n'.join(result))"
   ]
  },
  {
   "cell_type": "code",
   "execution_count": null,
   "metadata": {},
   "outputs": [],
   "source": []
  },
  {
   "cell_type": "code",
   "execution_count": null,
   "metadata": {},
   "outputs": [],
   "source": []
  }
 ],
 "metadata": {
  "kernelspec": {
   "display_name": "Python 3",
   "language": "python",
   "name": "python3"
  },
  "language_info": {
   "codemirror_mode": {
    "name": "ipython",
    "version": 3
   },
   "file_extension": ".py",
   "mimetype": "text/x-python",
   "name": "python",
   "nbconvert_exporter": "python",
   "pygments_lexer": "ipython3",
   "version": "3.7.3"
  }
 },
 "nbformat": 4,
 "nbformat_minor": 4
}
